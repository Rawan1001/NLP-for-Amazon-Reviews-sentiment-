{
 "cells": [
  {
   "cell_type": "markdown",
   "id": "42bf3eb3",
   "metadata": {},
   "source": [
    "# NLP for Amazon Rviews sentiment:\n",
    "___\n",
    "> - In this project our task was to get a dataset to build an NLP model on. \n",
    "We chose to analyze a dataset obtained from a website that collects amazon customers reviews of different products they bought. We chose the Luxury Beauty products dataset for this project. \n",
    "The dataset will be obtained from the website below and it will consist of 34278 reviews (rows) and 12 columns in total.\n",
    "\n",
    "> - https://nijianmo.github.io/amazon/index.html\n",
    "\n",
    "# The Approach:\n",
    "___\n",
    "> - analyzing the dataset using EDA techniques.\n",
    "> - Building an NLP model that predict the sentiment of the customers reviews if they are positive or negative. \n",
    "\n",
    "# Data description:\n",
    "___\n",
    "\n",
    "> - reviewerID - ID of the reviewer.\n",
    "> - asin - ID of the product.\n",
    "> - reviewerName - name of the reviewer\n",
    "> - vote - helpful votes of the review\n",
    "> - style - a disctionary of the product metadata.\n",
    "> - reviewText - text of the review.\n",
    "> - overall - rating of the product.\n",
    "> - summary - summary of the review.\n",
    "> - unixReviewTime - time of the review (unix time).\n",
    "> - reviewTime - time of the review (raw).\n",
    "> - image - images that users post after they have received the product.\n",
    "\n",
    "# Tools:\n",
    "___\n",
    "> - Jupyter.\n",
    "> - Git.\n",
    "> - Sqlite\n",
    "\n",
    "# Libraries:\n",
    "___\n",
    "> - Matplotlib.\n",
    "> - Seaborn.\n",
    "> - SQLite.\n",
    "> - Pandas.\n",
    "> - sklearn.\n",
    "> - json.\n",
    "> - dateTime.\n",
    "> - numpy.\n",
    "> - re.\n",
    "> - textBlob.\n",
    "> - String.\n",
    "> - nltk.\n",
    "> - pickle.\n",
    "\n"
   ]
  },
  {
   "cell_type": "code",
   "execution_count": null,
   "id": "8697b21c",
   "metadata": {},
   "outputs": [],
   "source": []
  }
 ],
 "metadata": {
  "kernelspec": {
   "display_name": "Python 3",
   "language": "python",
   "name": "python3"
  },
  "language_info": {
   "codemirror_mode": {
    "name": "ipython",
    "version": 3
   },
   "file_extension": ".py",
   "mimetype": "text/x-python",
   "name": "python",
   "nbconvert_exporter": "python",
   "pygments_lexer": "ipython3",
   "version": "3.8.8"
  }
 },
 "nbformat": 4,
 "nbformat_minor": 5
}
